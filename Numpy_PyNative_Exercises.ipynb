{
  "nbformat": 4,
  "nbformat_minor": 0,
  "metadata": {
    "colab": {
      "provenance": []
    },
    "kernelspec": {
      "name": "python3",
      "display_name": "Python 3"
    },
    "language_info": {
      "name": "python"
    }
  },
  "cells": [
    {
      "cell_type": "markdown",
      "source": [
        "1.Create a 4X2 integer array and Prints its attributes"
      ],
      "metadata": {
        "id": "zsNoiZaeDXj1"
      }
    },
    {
      "cell_type": "code",
      "source": [
        "import numpy as np\n",
        "a=np.array(np.arange(8)).reshape((4,2))\n",
        "print(a)\n",
        "print(a.shape)\n",
        "print(a.ndim)\n",
        "print(a.itemsize)"
      ],
      "metadata": {
        "colab": {
          "base_uri": "https://localhost:8080/"
        },
        "id": "0iXlUMxADZoW",
        "outputId": "290dd00d-a29d-4e1f-fbc9-0aac018c7d8d"
      },
      "execution_count": 2,
      "outputs": [
        {
          "output_type": "stream",
          "name": "stdout",
          "text": [
            "[[0 1]\n",
            " [2 3]\n",
            " [4 5]\n",
            " [6 7]]\n",
            "(4, 2)\n",
            "2\n",
            "8\n"
          ]
        }
      ]
    },
    {
      "cell_type": "markdown",
      "source": [
        "2.Create a 5X2 integer array from a range between 100 to 200 such that the difference between each element is 10"
      ],
      "metadata": {
        "id": "VZgjS0tADfLN"
      }
    },
    {
      "cell_type": "code",
      "source": [
        "a=np.array(np.linspace(100,190,10),dtype=\"int64\").reshape(5,2)\n",
        "a"
      ],
      "metadata": {
        "colab": {
          "base_uri": "https://localhost:8080/"
        },
        "id": "VZArjHxbDp9d",
        "outputId": "38e0bcce-bc8d-4fec-8729-2ba4e4b2d086"
      },
      "execution_count": 3,
      "outputs": [
        {
          "output_type": "execute_result",
          "data": {
            "text/plain": [
              "array([[100, 110],\n",
              "       [120, 130],\n",
              "       [140, 150],\n",
              "       [160, 170],\n",
              "       [180, 190]])"
            ]
          },
          "metadata": {},
          "execution_count": 3
        }
      ]
    },
    {
      "cell_type": "markdown",
      "source": [
        "3.Following is the provided numPy array. Return array of items by taking the third column from all rows"
      ],
      "metadata": {
        "id": "rA_xMClRDuza"
      }
    },
    {
      "cell_type": "code",
      "source": [
        "sampleArray = np.array([[11 ,22, 33], [44, 55, 66], [77, 88, 99]])\n",
        "sampleArray[:,2]"
      ],
      "metadata": {
        "colab": {
          "base_uri": "https://localhost:8080/"
        },
        "id": "3ZRYUA8tDzLd",
        "outputId": "61b8463d-90fb-46a2-ae0a-229669ccd670"
      },
      "execution_count": 4,
      "outputs": [
        {
          "output_type": "execute_result",
          "data": {
            "text/plain": [
              "array([33, 66, 99])"
            ]
          },
          "metadata": {},
          "execution_count": 4
        }
      ]
    },
    {
      "cell_type": "markdown",
      "source": [
        "4.Return array of odd rows and even columns from below numpy array"
      ],
      "metadata": {
        "id": "BpCWlHQwFSVF"
      }
    },
    {
      "cell_type": "code",
      "source": [
        "sampleArray = np.array([[3 ,6, 9, 12], [15 ,18, 21, 24], \n",
        "[27 ,30, 33, 36], [39 ,42, 45, 48], [51 ,54, 57, 60]])\n",
        "sampleArray[0::2,1::2]"
      ],
      "metadata": {
        "colab": {
          "base_uri": "https://localhost:8080/"
        },
        "id": "S4h3_pbcFWrx",
        "outputId": "d31488dd-ba34-430f-c767-3fca1d662828"
      },
      "execution_count": 5,
      "outputs": [
        {
          "output_type": "execute_result",
          "data": {
            "text/plain": [
              "array([[ 6, 12],\n",
              "       [30, 36],\n",
              "       [54, 60]])"
            ]
          },
          "metadata": {},
          "execution_count": 5
        }
      ]
    },
    {
      "cell_type": "markdown",
      "source": [
        "5.Create a result array by adding the following two NumPy arrays. Next, modify the result array by calculating the square of each element"
      ],
      "metadata": {
        "id": "qmsiEPCPFbSr"
      }
    },
    {
      "cell_type": "code",
      "source": [
        "a = np.array([[5, 6, 9], [21 ,18, 27]])\n",
        "b = np.array([[15 ,33, 24], [4 ,7, 1]])\n",
        "c=(a+b)**2\n",
        "c"
      ],
      "metadata": {
        "colab": {
          "base_uri": "https://localhost:8080/"
        },
        "id": "bISVJbGXFfAz",
        "outputId": "504088b3-fac9-4ed9-a3e2-c6a8137b4006"
      },
      "execution_count": 6,
      "outputs": [
        {
          "output_type": "execute_result",
          "data": {
            "text/plain": [
              "array([[ 400, 1521, 1089],\n",
              "       [ 625,  625,  784]])"
            ]
          },
          "metadata": {},
          "execution_count": 6
        }
      ]
    },
    {
      "cell_type": "markdown",
      "source": [
        "6.Split the array into four equal-sized sub-arrays"
      ],
      "metadata": {
        "id": "sYZn9Tf8Fh5W"
      }
    },
    {
      "cell_type": "code",
      "source": [
        "a=np.array(np.arange(10,34)).reshape(8,3)\n",
        "np.split(a,4)"
      ],
      "metadata": {
        "colab": {
          "base_uri": "https://localhost:8080/"
        },
        "id": "E-PdmV6oFlDl",
        "outputId": "c28dffab-cd93-4390-d3f5-ab92e0015fef"
      },
      "execution_count": 7,
      "outputs": [
        {
          "output_type": "execute_result",
          "data": {
            "text/plain": [
              "[array([[10, 11, 12],\n",
              "        [13, 14, 15]]), array([[16, 17, 18],\n",
              "        [19, 20, 21]]), array([[22, 23, 24],\n",
              "        [25, 26, 27]]), array([[28, 29, 30],\n",
              "        [31, 32, 33]])]"
            ]
          },
          "metadata": {},
          "execution_count": 7
        }
      ]
    },
    {
      "cell_type": "markdown",
      "source": [
        "7.Sort following NumPy array\n",
        "Case 1: Sort array by the second row\n",
        "Case 2: Sort the array by the second column"
      ],
      "metadata": {
        "id": "VFxo4r1EFoBq"
      }
    },
    {
      "cell_type": "code",
      "source": [
        "a = np.array([[34,43,73],[82,22,12],[53,94,66]])\n",
        "mask= np.argsort(a[1])\n",
        "a[:,mask]"
      ],
      "metadata": {
        "colab": {
          "base_uri": "https://localhost:8080/"
        },
        "id": "hm6697tFFsg4",
        "outputId": "63860e3b-b6de-495d-db57-0caec98225c6"
      },
      "execution_count": 8,
      "outputs": [
        {
          "output_type": "execute_result",
          "data": {
            "text/plain": [
              "array([[73, 43, 34],\n",
              "       [12, 22, 82],\n",
              "       [66, 94, 53]])"
            ]
          },
          "metadata": {},
          "execution_count": 8
        }
      ]
    },
    {
      "cell_type": "code",
      "source": [
        "mask=np.argsort(a[:,1])\n",
        "a[mask]"
      ],
      "metadata": {
        "colab": {
          "base_uri": "https://localhost:8080/"
        },
        "id": "-IIpfmMGGND7",
        "outputId": "d90f6498-82fd-4ca9-cfde-5087a4e90b66"
      },
      "execution_count": 9,
      "outputs": [
        {
          "output_type": "execute_result",
          "data": {
            "text/plain": [
              "array([[82, 22, 12],\n",
              "       [34, 43, 73],\n",
              "       [53, 94, 66]])"
            ]
          },
          "metadata": {},
          "execution_count": 9
        }
      ]
    },
    {
      "cell_type": "markdown",
      "source": [
        "8.Print max from axis 0 and min from axis 1 from the following 2-D array."
      ],
      "metadata": {
        "id": "OYXrcfBpGjWu"
      }
    },
    {
      "cell_type": "code",
      "source": [
        "a = np.array([[34,43,73],[82,22,12],[53,94,66]])\n",
        "print(np.min(a,axis=1))\n",
        "print(np.max(a,axis=0))"
      ],
      "metadata": {
        "colab": {
          "base_uri": "https://localhost:8080/"
        },
        "id": "JPAe3VNRGn9Z",
        "outputId": "f3ebd9bc-f0c4-481e-9866-62bd5b17d0e7"
      },
      "execution_count": 10,
      "outputs": [
        {
          "output_type": "stream",
          "name": "stdout",
          "text": [
            "[34 12 53]\n",
            "[82 94 73]\n"
          ]
        }
      ]
    },
    {
      "cell_type": "markdown",
      "source": [
        "9.Delete the second column from a given array and insert the following new column in its place"
      ],
      "metadata": {
        "id": "LXoRKRKOGq4q"
      }
    },
    {
      "cell_type": "code",
      "source": [
        "a = np.array([[34,43,73],[82,22,12],[53,94,66]]) \n",
        "a=np.delete(a,1,axis=1)\n",
        "b=np.array([[10,10,10]])\n",
        "np.insert(a,1,b,axis=1)"
      ],
      "metadata": {
        "colab": {
          "base_uri": "https://localhost:8080/"
        },
        "id": "-rAt7FnlGwpR",
        "outputId": "fd0dcdbf-9c4b-4df9-d3c5-f423c4831165"
      },
      "execution_count": 11,
      "outputs": [
        {
          "output_type": "execute_result",
          "data": {
            "text/plain": [
              "array([[34, 10, 73],\n",
              "       [82, 10, 12],\n",
              "       [53, 10, 66]])"
            ]
          },
          "metadata": {},
          "execution_count": 11
        }
      ]
    },
    {
      "cell_type": "markdown",
      "source": [
        "10.Create two 2-D arrays and Plot them using matplotlib"
      ],
      "metadata": {
        "id": "wRba2hh1G68R"
      }
    },
    {
      "cell_type": "code",
      "source": [
        "import matplotlib.pyplot as plt\n",
        "a=np.array([1,2,3,4,5])\n",
        "b=np.array([1,4,9,16,25])\n",
        "plt.plot(a,b)"
      ],
      "metadata": {
        "colab": {
          "base_uri": "https://localhost:8080/",
          "height": 282
        },
        "id": "a74nShjZG9G3",
        "outputId": "cb28a1bc-4de3-4f43-cf9b-804c75d2a911"
      },
      "execution_count": 13,
      "outputs": [
        {
          "output_type": "execute_result",
          "data": {
            "text/plain": [
              "[<matplotlib.lines.Line2D at 0x7f8de1f20910>]"
            ]
          },
          "metadata": {},
          "execution_count": 13
        },
        {
          "output_type": "display_data",
          "data": {
            "text/plain": [
              "<Figure size 432x288 with 1 Axes>"
            ],
            "image/png": "[encoded data removed]"
          },
          "metadata": {
            "needs_background": "light"
          }
        }
      ]
    }
  ]
}